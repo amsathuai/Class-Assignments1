{
 "cells": [
  {
   "cell_type": "code",
   "execution_count": 2,
   "id": "c0de7eb0",
   "metadata": {},
   "outputs": [
    {
     "name": "stdout",
     "output_type": "stream",
     "text": [
      "SubFields in AI are:\n",
      "Machine Learning\n",
      "Neural Networks\n",
      "Vision\n",
      "Robotics\n",
      "Speech Processing\n",
      "Natural Processing\n"
     ]
    }
   ],
   "source": [
    "class SubfieldsInAI():\n",
    "    def subfields():\n",
    "        print(\"SubFields in AI are:\")\n",
    "        for temp in range(0,1):\n",
    "            print(\"Machine Learning\")\n",
    "            print(\"Neural Networks\")\n",
    "            print(\"Vision\")\n",
    "            print(\"Robotics\")\n",
    "            print(\"Speech Processing\")\n",
    "            print(\"Natural Processing\")\n",
    "SubfieldsInAI.subfields()\n",
    "    \n"
   ]
  },
  {
   "cell_type": "code",
   "execution_count": 3,
   "id": "0e296c5d",
   "metadata": {},
   "outputs": [
    {
     "name": "stdout",
     "output_type": "stream",
     "text": [
      "Your Gender male\n",
      "Your age20\n",
      "Not Eligible for Marriage\n"
     ]
    }
   ],
   "source": [
    "class ElegiblityForMarriage():\n",
    "    def Eligible():\n",
    "        gender=input(\"Your Gender \")\n",
    "        age=int(input(\"Your age\"))\n",
    "        if(gender==\"male\"):\n",
    "            if(age<21):\n",
    "                print(\"Not Eligible for Marriage\")\n",
    "            else:\n",
    "                print(\"Eligible for Marriage\")\n",
    "        else:\n",
    "            if(age<18):\n",
    "                print(\"Not Eligible for Marriage\")\n",
    "            else:\n",
    "                print(\"REligible for marriage\")\n",
    "ElegiblityForMarriage.Eligible()"
   ]
  },
  {
   "cell_type": "code",
   "execution_count": 4,
   "id": "b70f2f5d",
   "metadata": {},
   "outputs": [
    {
     "name": "stdout",
     "output_type": "stream",
     "text": [
      "Enter the number:52452\n",
      "52452 is Even number\n"
     ]
    }
   ],
   "source": [
    "class OddEven():\n",
    "    def OddEven():\n",
    "        number=int(input(\"Enter the number:\"))\n",
    "        if(number%2==0):\n",
    "            Message=print(number,\"is Even number\")\n",
    "        \n",
    "        else:\n",
    "            Message=print(number,\"is Odd NUmber\")\n",
    "        return Message\n",
    "OddEven.OddEven()"
   ]
  },
  {
   "cell_type": "code",
   "execution_count": 5,
   "id": "8a06b12c",
   "metadata": {},
   "outputs": [
    {
     "name": "stdout",
     "output_type": "stream",
     "text": [
      "Subject1=98\n",
      "Subject2=87\n",
      "Subject3=95\n",
      "Subject4=95\n",
      "Subject5=93\n",
      "Total= 468\n",
      "percentage= 93.6\n"
     ]
    }
   ],
   "source": [
    "class FindPercentage():\n",
    "    def percentage():\n",
    "        mark1=int(input(\"Subject1=\"))\n",
    "        mark2=int(input(\"Subject2=\"))\n",
    "        mark3=int(input(\"Subject3=\"))\n",
    "        mark4=int(input(\"Subject4=\"))\n",
    "        mark5=int(input(\"Subject5=\"))\n",
    "        Total=mark1+mark2+mark3+mark4+mark5\n",
    "        print(\"Total=\",Total)\n",
    "        percentage=Total/5\n",
    "        print(\"percentage=\",percentage)\n",
    "FindPercentage.percentage()"
   ]
  },
  {
   "cell_type": "code",
   "execution_count": 6,
   "id": "39607d0a",
   "metadata": {},
   "outputs": [
    {
     "name": "stdout",
     "output_type": "stream",
     "text": [
      "Height:32\n",
      "Breadth:34\n",
      "Area of triangle=(Height*Breadth)/2\n",
      "Area of Triangle= 544.0\n",
      "Height1:2\n",
      "Height2:4\n",
      "Breadth:4\n",
      "perimter of triangle:Height1+Height2+Breadth\n",
      "perimeter of triangle: 10\n"
     ]
    }
   ],
   "source": [
    "class triangle():\n",
    "    def triangle():\n",
    "        height=int(input(\"Height:\"))\n",
    "        breadth=int(input(\"Breadth:\"))\n",
    "        print(\"Area of triangle=(Height*Breadth)/2\")\n",
    "        Area=(height*breadth)/2\n",
    "        print(\"Area of Triangle=\",Area)\n",
    "        height1=int(input(\"Height1:\"))\n",
    "        height2=int(input(\"Height2:\"))\n",
    "        breadth=int(input(\"Breadth:\"))\n",
    "        print(\"perimter of triangle:Height1+Height2+Breadth\")\n",
    "        perimeter=height1+height2+breadth\n",
    "        print(\"perimeter of triangle:\",perimeter)\n",
    "triangle.triangle()"
   ]
  },
  {
   "cell_type": "code",
   "execution_count": null,
   "id": "c6e4573a",
   "metadata": {},
   "outputs": [],
   "source": []
  }
 ],
 "metadata": {
  "kernelspec": {
   "display_name": "Python 3 (ipykernel)",
   "language": "python",
   "name": "python3"
  },
  "language_info": {
   "codemirror_mode": {
    "name": "ipython",
    "version": 3
   },
   "file_extension": ".py",
   "mimetype": "text/x-python",
   "name": "python",
   "nbconvert_exporter": "python",
   "pygments_lexer": "ipython3",
   "version": "3.11.5"
  }
 },
 "nbformat": 4,
 "nbformat_minor": 5
}
